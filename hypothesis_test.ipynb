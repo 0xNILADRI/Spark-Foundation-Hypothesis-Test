{
 "cells": [
  {
   "cell_type": "code",
   "execution_count": 69,
   "metadata": {},
   "outputs": [],
   "source": [
    "# import necessary libraries\n",
    "import numpy as np\n",
    "import pandas as pd\n",
    "import matplotlib.pyplot as plt\n",
    "from matplotlib.pyplot import figure\n",
    "import seaborn as sns\n",
    "import math\n",
    "from scipy.stats import sem\n",
    "from scipy.stats import t\n",
    "\n",
    "# default='warn'\n",
    "pd.options.mode.chained_assignment = None  \n",
    "pd.set_option('display.max_columns', None)\n",
    "\n",
    "%matplotlib inline"
   ]
  },
  {
   "cell_type": "code",
   "execution_count": 2,
   "metadata": {},
   "outputs": [
    {
     "data": {
      "text/html": [
       "<div>\n",
       "<style scoped>\n",
       "    .dataframe tbody tr th:only-of-type {\n",
       "        vertical-align: middle;\n",
       "    }\n",
       "\n",
       "    .dataframe tbody tr th {\n",
       "        vertical-align: top;\n",
       "    }\n",
       "\n",
       "    .dataframe thead th {\n",
       "        text-align: right;\n",
       "    }\n",
       "</style>\n",
       "<table border=\"1\" class=\"dataframe\">\n",
       "  <thead>\n",
       "    <tr style=\"text-align: right;\">\n",
       "      <th></th>\n",
       "      <th>Surname</th>\n",
       "      <th>Name</th>\n",
       "      <th>Age</th>\n",
       "      <th>Gender</th>\n",
       "      <th>Country</th>\n",
       "      <th>Ethnicity</th>\n",
       "      <th>Start_date</th>\n",
       "      <th>Department</th>\n",
       "      <th>Position</th>\n",
       "      <th>Salary</th>\n",
       "    </tr>\n",
       "  </thead>\n",
       "  <tbody>\n",
       "    <tr>\n",
       "      <th>0</th>\n",
       "      <td>Sweetwater</td>\n",
       "      <td>Alex</td>\n",
       "      <td>51</td>\n",
       "      <td>Male</td>\n",
       "      <td>United States</td>\n",
       "      <td>White</td>\n",
       "      <td>15-08-2011</td>\n",
       "      <td>Software Engineering</td>\n",
       "      <td>Software Engineering Manager</td>\n",
       "      <td>$56,160.00</td>\n",
       "    </tr>\n",
       "    <tr>\n",
       "      <th>1</th>\n",
       "      <td>Carabbio</td>\n",
       "      <td>Judith</td>\n",
       "      <td>30</td>\n",
       "      <td>Female</td>\n",
       "      <td>United States</td>\n",
       "      <td>White</td>\n",
       "      <td>11-11-2013</td>\n",
       "      <td>Software Engineering</td>\n",
       "      <td>Software Engineer</td>\n",
       "      <td>$1,16,480.00</td>\n",
       "    </tr>\n",
       "    <tr>\n",
       "      <th>2</th>\n",
       "      <td>Saada</td>\n",
       "      <td>Adell</td>\n",
       "      <td>31</td>\n",
       "      <td>Female</td>\n",
       "      <td>United States</td>\n",
       "      <td>White</td>\n",
       "      <td>05-11-2012</td>\n",
       "      <td>Software Engineering</td>\n",
       "      <td>Software Engineer</td>\n",
       "      <td>$1,02,440.00</td>\n",
       "    </tr>\n",
       "    <tr>\n",
       "      <th>3</th>\n",
       "      <td>Szabo</td>\n",
       "      <td>Andrew</td>\n",
       "      <td>34</td>\n",
       "      <td>Male</td>\n",
       "      <td>United States</td>\n",
       "      <td>White</td>\n",
       "      <td>07-07-2014</td>\n",
       "      <td>Software Engineering</td>\n",
       "      <td>Software Engineer</td>\n",
       "      <td>$99,840.00</td>\n",
       "    </tr>\n",
       "    <tr>\n",
       "      <th>4</th>\n",
       "      <td>Andreola</td>\n",
       "      <td>Colby</td>\n",
       "      <td>38</td>\n",
       "      <td>Female</td>\n",
       "      <td>United States</td>\n",
       "      <td>White</td>\n",
       "      <td>10-11-2014</td>\n",
       "      <td>Software Engineering</td>\n",
       "      <td>Software Engineer</td>\n",
       "      <td>$99,008.00</td>\n",
       "    </tr>\n",
       "  </tbody>\n",
       "</table>\n",
       "</div>"
      ],
      "text/plain": [
       "      Surname    Name  Age  Gender        Country Ethnicity  Start_date  \\\n",
       "0  Sweetwater    Alex   51    Male  United States     White  15-08-2011   \n",
       "1    Carabbio  Judith   30  Female  United States     White  11-11-2013   \n",
       "2       Saada   Adell   31  Female  United States     White  05-11-2012   \n",
       "3       Szabo  Andrew   34    Male  United States     White  07-07-2014   \n",
       "4    Andreola   Colby   38  Female  United States     White  10-11-2014   \n",
       "\n",
       "                  Department                      Position        Salary  \n",
       "0  Software Engineering       Software Engineering Manager    $56,160.00  \n",
       "1       Software Engineering             Software Engineer  $1,16,480.00  \n",
       "2       Software Engineering             Software Engineer  $1,02,440.00  \n",
       "3       Software Engineering             Software Engineer    $99,840.00  \n",
       "4       Software Engineering             Software Engineer    $99,008.00  "
      ]
     },
     "execution_count": 2,
     "metadata": {},
     "output_type": "execute_result"
    }
   ],
   "source": [
    "# import data\n",
    "df = pd.read_csv('data.csv',delimiter=',')\n",
    "df.head()"
   ]
  },
  {
   "cell_type": "code",
   "execution_count": 3,
   "metadata": {},
   "outputs": [
    {
     "data": {
      "text/plain": [
       "False"
      ]
     },
     "execution_count": 3,
     "metadata": {},
     "output_type": "execute_result"
    }
   ],
   "source": [
    "# check duplicates\n",
    "df.duplicated().all()"
   ]
  },
  {
   "cell_type": "code",
   "execution_count": 4,
   "metadata": {},
   "outputs": [
    {
     "data": {
      "text/plain": [
       "Surname       False\n",
       "Name          False\n",
       "Age           False\n",
       "Gender        False\n",
       "Country       False\n",
       "Ethnicity     False\n",
       "Start_date    False\n",
       "Department    False\n",
       "Position      False\n",
       "Salary        False\n",
       "dtype: bool"
      ]
     },
     "execution_count": 4,
     "metadata": {},
     "output_type": "execute_result"
    }
   ],
   "source": [
    "# check null values \n",
    "df.isna().all()"
   ]
  },
  {
   "cell_type": "code",
   "execution_count": 5,
   "metadata": {},
   "outputs": [
    {
     "data": {
      "text/plain": [
       "Surname       object\n",
       "Name          object\n",
       "Age            int64\n",
       "Gender        object\n",
       "Country       object\n",
       "Ethnicity     object\n",
       "Start_date    object\n",
       "Department    object\n",
       "Position      object\n",
       "Salary        object\n",
       "dtype: object"
      ]
     },
     "execution_count": 5,
     "metadata": {},
     "output_type": "execute_result"
    }
   ],
   "source": [
    "# check data type\n",
    "df.dtypes"
   ]
  },
  {
   "cell_type": "code",
   "execution_count": 6,
   "metadata": {},
   "outputs": [],
   "source": [
    "# rectify data types \n",
    "df['Start_date'] = pd.to_datetime(df['Start_date'])\n",
    "df['Salary'] = df['Salary'].str.replace('$','')\n",
    "df['Salary'] = df['Salary'].str.replace(',','')\n",
    "df['Salary'] = df['Salary'].astype(float)"
   ]
  },
  {
   "cell_type": "code",
   "execution_count": 7,
   "metadata": {},
   "outputs": [
    {
     "data": {
      "text/plain": [
       "0     2011-08-15\n",
       "1     2013-11-11\n",
       "2     2012-05-11\n",
       "3     2014-07-07\n",
       "4     2014-10-11\n",
       "         ...    \n",
       "169   2014-09-29\n",
       "170   2012-05-14\n",
       "171   2015-03-30\n",
       "172   2014-10-11\n",
       "173   2015-02-16\n",
       "Name: Start_date, Length: 174, dtype: datetime64[ns]"
      ]
     },
     "execution_count": 7,
     "metadata": {},
     "output_type": "execute_result"
    }
   ],
   "source": [
    "#check data\n",
    "df['Start_date']"
   ]
  },
  {
   "cell_type": "code",
   "execution_count": 8,
   "metadata": {},
   "outputs": [
    {
     "data": {
      "text/plain": [
       "0       56160.0\n",
       "1      116480.0\n",
       "2      102440.0\n",
       "3       99840.0\n",
       "4       99008.0\n",
       "         ...   \n",
       "169     31200.0\n",
       "170     29120.0\n",
       "171    114816.0\n",
       "172     88920.0\n",
       "173     72696.0\n",
       "Name: Salary, Length: 174, dtype: float64"
      ]
     },
     "execution_count": 8,
     "metadata": {},
     "output_type": "execute_result"
    }
   ],
   "source": [
    "df['Salary']"
   ]
  },
  {
   "cell_type": "code",
   "execution_count": 13,
   "metadata": {},
   "outputs": [
    {
     "data": {
      "text/plain": [
       "Index(['Age', 'Gender', 'Ethnicity', 'Start_date', 'Position', 'Salary'], dtype='object')"
      ]
     },
     "execution_count": 13,
     "metadata": {},
     "output_type": "execute_result"
    }
   ],
   "source": [
    "df.columns"
   ]
  },
  {
   "cell_type": "code",
   "execution_count": 12,
   "metadata": {},
   "outputs": [],
   "source": [
    "# remove unnecessary columns\n",
    "df.drop(['Surname', 'Name','Country','Department'], axis = 1, inplace=True) "
   ]
  },
  {
   "cell_type": "code",
   "execution_count": 14,
   "metadata": {},
   "outputs": [
    {
     "data": {
      "text/plain": [
       "array(['Male', 'Female'], dtype=object)"
      ]
     },
     "execution_count": 14,
     "metadata": {},
     "output_type": "execute_result"
    }
   ],
   "source": [
    "# check gender values\n",
    "df['Gender'].unique()"
   ]
  },
  {
   "cell_type": "code",
   "execution_count": 42,
   "metadata": {},
   "outputs": [],
   "source": [
    "# create data for male and female -- gender factor\n",
    "df_female = df[df['Gender']=='Female']['Salary']\n",
    "df_male = df[df['Gender']=='Male']['Salary']"
   ]
  },
  {
   "cell_type": "code",
   "execution_count": 16,
   "metadata": {},
   "outputs": [
    {
     "data": {
      "text/plain": [
       "array(['White', 'Two or more races', 'Hispanic',\n",
       "       'Black or African American', 'Asian'], dtype=object)"
      ]
     },
     "execution_count": 16,
     "metadata": {},
     "output_type": "execute_result"
    }
   ],
   "source": [
    "# check Ethnicity values\n",
    "df['Ethnicity'].unique()"
   ]
  },
  {
   "cell_type": "code",
   "execution_count": 44,
   "metadata": {},
   "outputs": [],
   "source": [
    "# create data for white and non whites -- race factor\n",
    "df_white = df[df['Ethnicity']=='White']['Salary']\n",
    "df_non_white = df[df['Ethnicity']!='White']['Salary']"
   ]
  },
  {
   "cell_type": "code",
   "execution_count": 45,
   "metadata": {},
   "outputs": [],
   "source": [
    "# create data for employees above 35 years of age. -- racial discrimination\n",
    "df_over35_white = df[(df['Age']> 35) & (df['Ethnicity']=='White')]['Salary']\n",
    "df_over35_non_white = df[(df['Age']> 35) & (df['Ethnicity']!='White')]['Salary']"
   ]
  },
  {
   "cell_type": "code",
   "execution_count": 104,
   "metadata": {},
   "outputs": [],
   "source": [
    "# create data for white and non whites -- race factor\n",
    "df_over35_female = df[(df['Age']> 35) & (df['Gender']=='Female')]['Salary']\n",
    "df_over35_male = df[(df['Age']> 35) & (df['Gender']=='Male')]['Salary']"
   ]
  },
  {
   "cell_type": "code",
   "execution_count": 22,
   "metadata": {},
   "outputs": [],
   "source": [
    "# top 50 employees - highest tenure / longest in the organisation - gender and race factor\n",
    "df_top50_tenure = df.sort_values(by='Start_date',ascending=True)[:50]"
   ]
  },
  {
   "cell_type": "code",
   "execution_count": 47,
   "metadata": {},
   "outputs": [],
   "source": [
    "# create data for male and female -- gender factor\n",
    "df_top50_female = df_top50_tenure[df_top50_tenure['Gender']=='Female']['Salary']\n",
    "df_top50_male = df_top50_tenure[df_top50_tenure['Gender']=='Male']['Salary']"
   ]
  },
  {
   "cell_type": "code",
   "execution_count": 48,
   "metadata": {},
   "outputs": [],
   "source": [
    "# create data for male and female -- gender factor\n",
    "df_top50_white = df_top50_tenure[df_top50_tenure['Ethnicity']=='White']['Salary']\n",
    "df_top50_non_white = df_top50_tenure[df_top50_tenure['Ethnicity']!='White']['Salary']"
   ]
  },
  {
   "cell_type": "markdown",
   "metadata": {},
   "source": [
    "### Let's begin our Hypothesis Testing.\n",
    "\n",
    "Before proceeding lets assess the situations. The all of the condition satisfies :\n",
    "* Unknown Variance, since sample data and assumed to be equal\n",
    "* dependant samples\n",
    "\n",
    "Therefor we can perform  Student's T Test. Calculate T value , p value to infer the hypothesis.\n",
    "\n",
    "__Process :__\n",
    "\n",
    "1. Calucate n (sample size) for both dataset.\n",
    "2. Standard Deviation , s<sub>x</sub><sup>2</sup>, s<sub>y</sub><sup>2</sup>\n",
    "3. Pooled Variance\n",
    "\n",
    "   Formula : $$s_{p}^2 = \\frac {(n_{x} - 1)s_{x}^2 + (n_{y} - 1)s_{y}^2}{n_{x} + n_{y} - 2}$$\n",
    "\n",
    "4. Standard Error \n",
    "\n",
    "    Formula : $$std. err = \\sqrt { \\frac { s_{p}^2 }{n_{x}} + \\frac { s_{p}^2 }{n_{y}}}$$\n",
    "\n",
    "5. Degree of freedom \n",
    "\n",
    "    Formula : $$df = n_{x} + n_{y} -2$$\n",
    "\n",
    "6. T Statistic Value \n",
    "\n",
    "    Formula : $$T = \\frac {\\bar d - \\mu_{o}}{std.err} $$\n",
    "\n",
    "7. Calculate P Value\n",
    "\n",
    "    * Refer T Table for P value significance.\n",
    "\n",
    "__We choose significance value of 0.05, 95%. α = 0.05__\n",
    "\n",
    "</br>\n",
    "\n",
    "\n",
    "__*Thumb Rule*__\n",
    "\n",
    "1. If T score greater than 2, or lower than -2 we can easily reject the null Hypothesis.\n",
    "2. P value lower than 0.0000 is extreamly significant, although we consider only upto 3.\n",
    "    \n",
    "</br>\n",
    "\n",
    "__Questions and Hypothesis.__\n",
    "\n",
    "For each case we consider 2 tail test, because of our hypothesis.\n",
    "\n",
    "__Q1.__ Is there any gender wage gap in the organisation ?\n",
    "\n",
    "$$H_{0}  :  \\mu_{male} - \\mu_{female} = 0 \\space , \\space no \\space gender \\space gap$$\n",
    "$$H_{1}  :  \\mu_{male} - \\mu_{female} \\neq 0 \\space , \\space gender \\space gap \\space present$$\n",
    "\n",
    "\n",
    "__Q2.__ Is the company discriminating on the basis of race/ethnicity (white vs else) ?\n",
    "\n",
    "$$H_{0}  :  \\mu_{white} - \\mu_{non-white} = 0 \\space , \\space no \\space racial \\space gap$$\n",
    "$$H_{1}  :  \\mu_{white} - \\mu_{non-white} \\neq 0 \\space , \\space racial \\space gap \\space present$$\n",
    "\n",
    "\n",
    "__Q3.__ Is there racial discrimination for the employees above the age of 35 ?\n",
    "\n",
    "$$H_{0}  :  \\mu_{white-above35} - \\mu_{non-white-above35} = 0 \\space , \\space no \\space racial \\space gap$$\n",
    "$$H_{1}  :  \\mu_{white-above35} - \\mu_{non-white-above35} \\neq 0 \\space , \\space racial \\space gap \\space present$$\n",
    "\n",
    "__Q5.__ Is there gender discrimination for the employees above the age of 35 ?\n",
    "\n",
    "$$H_{0}  :  \\mu_{male-above35} - \\mu_{female-above35} = 0 \\space , \\space no \\space racial \\space gap$$\n",
    "$$H_{1}  :  \\mu_{male-above35} - \\mu_{female-above35} \\neq 0 \\space , \\space racial \\space gap \\space present$$\n",
    "\n",
    "__Q6.__ Are the top 50 longest working employees facing gender discrimination ?\n",
    "\n",
    "$$H_{0}  :  \\mu_{male-top50} - \\mu_{female-top50} = 0 \\space , \\space no \\space gender \\space gap$$\n",
    "$$H_{1}  :  \\mu_{male-top50} - \\mu_{female-top50} \\neq 0 \\space , \\space gender \\space gap \\space present$$\n",
    "\n",
    "__Q7.__ Are the top 50 longest working employees facing racial discrimination ?\n",
    "\n",
    "$$H_{0}  :  \\mu_{white-top50} - \\mu_{non-white-top50} = 0 \\space , \\space no \\space racial \\space gap$$\n",
    "$$H_{1}  :  \\mu_{white-top50} - \\mu_{non-white-top50} \\neq 0 \\space , \\space racial \\space gap \\space present$$\n",
    "\n",
    "__Q8.__ We should check for each department is there gender discrimination ?\n",
    "\n",
    "$$H_{0}  :  \\mu_{male-department} - \\mu_{female-department} = 0 \\space , \\space no \\space gender \\space gap$$\n",
    "$$H_{1}  :  \\mu_{male-department} - \\mu_{female-department} \\neq 0 \\space , \\space gender \\space gap \\space present$$\n",
    "\n",
    "__Q9.__ We should check for each department is there racial discrimination ?\n",
    "\n",
    "$$H_{0}  :  \\mu_{white-department} - \\mu_{non-white-department} = 0 \\space , \\space no \\space racial \\space gap$$\n",
    "$$H_{1}  :  \\mu_{white-department} - \\mu_{non-white-department} \\neq 0 \\space , \\space racial \\space gap \\space present$$"
   ]
  },
  {
   "cell_type": "code",
   "execution_count": 158,
   "metadata": {},
   "outputs": [],
   "source": [
    "## create function\n",
    "def hypothesis_test(df1,df2,alpha,hypo):\n",
    "    m1, m2 = df1.mean(), df2.mean()\n",
    "    se1, se2 = sem(df1), sem(df2)\n",
    "    se = math.sqrt(se1**2.0 + se2**2.0)\n",
    "    ts = ((m1 - m2)-hypo) / se\n",
    "    deg_free = len(df1) + len(df2) - 2\n",
    "    crit_value = t.ppf(1.0 - alpha, deg_free)\n",
    "    p = (1.0 - t.cdf(abs(ts), deg_free)) * 2.0\n",
    "    result = ''\n",
    "    if p < alpha:\n",
    "        result = 'Reject the Null Hypothesis'\n",
    "    else:\n",
    "        result = \"Don't Reject the Null Hypothesis\"\n",
    "        \n",
    "    if np.isnan(ts):\n",
    "        print('Any of the two dataset is either null or has only one item')\n",
    "    else:\n",
    "        print(\"T Statistic : \",ts)\n",
    "        print(\"Degree of Freedom : \",deg_free)\n",
    "        print(\"Critical Value : \",crit_value)\n",
    "        print(\"P Value : \",p)\n",
    "        print(\"\")\n",
    "        if result == 'Reject the Null Hypothesis':\n",
    "            print('###########################################')\n",
    "            print(\"Verdict : \",result)\n",
    "            print('###########################################')\n",
    "        else:\n",
    "            print(\"Verdict : \",result)\n",
    "        return ts"
   ]
  },
  {
   "cell_type": "markdown",
   "metadata": {},
   "source": [
    "#### Q1. Is there any gender wage gap in the organisation ?"
   ]
  },
  {
   "cell_type": "code",
   "execution_count": 159,
   "metadata": {},
   "outputs": [
    {
     "name": "stdout",
     "output_type": "stream",
     "text": [
      "T Statistic :  1.2508402639016816\n",
      "Degree of Freedom :  172\n",
      "Critical Value :  1.6537609493607581\n",
      "P Value :  0.21269158371105035\n",
      "\n",
      "Verdict :  Don't Reject the Null Hypothesis\n"
     ]
    },
    {
     "data": {
      "text/plain": [
       "1.2508402639016816"
      ]
     },
     "execution_count": 159,
     "metadata": {},
     "output_type": "execute_result"
    }
   ],
   "source": [
    "hypothesis_test(df_male,df_female,0.05,0)"
   ]
  },
  {
   "cell_type": "markdown",
   "metadata": {},
   "source": [
    "#### The result implies out hypothesis was true, that there was no discrimination against gender."
   ]
  },
  {
   "cell_type": "markdown",
   "metadata": {},
   "source": [
    "#### Q2. Is the company discriminating on the basis of race/ethnicity (white vs else) ?"
   ]
  },
  {
   "cell_type": "code",
   "execution_count": 160,
   "metadata": {},
   "outputs": [
    {
     "name": "stdout",
     "output_type": "stream",
     "text": [
      "T Statistic :  -0.6572076630862012\n",
      "Degree of Freedom :  172\n",
      "Critical Value :  1.6537609493607581\n",
      "P Value :  0.5119258627156795\n",
      "\n",
      "Verdict :  Don't Reject the Null Hypothesis\n"
     ]
    },
    {
     "data": {
      "text/plain": [
       "-0.6572076630862012"
      ]
     },
     "execution_count": 160,
     "metadata": {},
     "output_type": "execute_result"
    }
   ],
   "source": [
    "hypothesis_test(df_white,df_non_white,0.05,0)"
   ]
  },
  {
   "cell_type": "markdown",
   "metadata": {},
   "source": [
    "#### The result implies out hypothesis was true, that there was is no racial profiling."
   ]
  },
  {
   "cell_type": "markdown",
   "metadata": {},
   "source": [
    "#### Q3. Is there racial discrimination for the employees above the age of 35 ?"
   ]
  },
  {
   "cell_type": "code",
   "execution_count": 161,
   "metadata": {},
   "outputs": [
    {
     "name": "stdout",
     "output_type": "stream",
     "text": [
      "T Statistic :  0.5469636226703869\n",
      "Degree of Freedom :  90\n",
      "Critical Value :  1.6619610839969403\n",
      "P Value :  0.5857573869489032\n",
      "\n",
      "Verdict :  Don't Reject the Null Hypothesis\n"
     ]
    },
    {
     "data": {
      "text/plain": [
       "0.5469636226703869"
      ]
     },
     "execution_count": 161,
     "metadata": {},
     "output_type": "execute_result"
    }
   ],
   "source": [
    "hypothesis_test(df_over35_white,df_over35_non_white,0.05,0)"
   ]
  },
  {
   "cell_type": "markdown",
   "metadata": {},
   "source": [
    "#### The result implies out hypothesis was true, that there was is no racial profiling while the employees are abive the age of 35."
   ]
  },
  {
   "cell_type": "markdown",
   "metadata": {},
   "source": [
    "#### Q4. Is there gender discrimination for the employees above the age of 35 ?"
   ]
  },
  {
   "cell_type": "code",
   "execution_count": 162,
   "metadata": {},
   "outputs": [
    {
     "name": "stdout",
     "output_type": "stream",
     "text": [
      "T Statistic :  1.4087675289655615\n",
      "Degree of Freedom :  90\n",
      "Critical Value :  1.6619610839969403\n",
      "P Value :  0.16234944888715952\n",
      "\n",
      "Verdict :  Don't Reject the Null Hypothesis\n"
     ]
    },
    {
     "data": {
      "text/plain": [
       "1.4087675289655615"
      ]
     },
     "execution_count": 162,
     "metadata": {},
     "output_type": "execute_result"
    }
   ],
   "source": [
    "hypothesis_test(df_over35_male,df_over35_female,0.05,0)"
   ]
  },
  {
   "cell_type": "markdown",
   "metadata": {},
   "source": [
    "#### The result implies out hypothesis was true, that there is no age discrimination against sex, above the age of 35."
   ]
  },
  {
   "cell_type": "markdown",
   "metadata": {},
   "source": [
    "#### Q5. Are the top 50 longest working employees facing gender discrimination ?"
   ]
  },
  {
   "cell_type": "code",
   "execution_count": 163,
   "metadata": {},
   "outputs": [
    {
     "name": "stdout",
     "output_type": "stream",
     "text": [
      "T Statistic :  0.3527540483112269\n",
      "Degree of Freedom :  48\n",
      "Critical Value :  1.6772241953450393\n",
      "P Value :  0.7258171918870246\n",
      "\n",
      "Verdict :  Don't Reject the Null Hypothesis\n"
     ]
    },
    {
     "data": {
      "text/plain": [
       "0.3527540483112269"
      ]
     },
     "execution_count": 163,
     "metadata": {},
     "output_type": "execute_result"
    }
   ],
   "source": [
    "hypothesis_test(df_top50_male,df_top50_female,0.05,0)"
   ]
  },
  {
   "cell_type": "markdown",
   "metadata": {},
   "source": [
    "#### The result implies out hypothesis was true, that there is no gender discrimination on top 50 oldest working employees."
   ]
  },
  {
   "cell_type": "markdown",
   "metadata": {},
   "source": [
    "#### Q6. Are the top 50 longest working employees facing racial discrimination ?"
   ]
  },
  {
   "cell_type": "code",
   "execution_count": 164,
   "metadata": {},
   "outputs": [
    {
     "name": "stdout",
     "output_type": "stream",
     "text": [
      "T Statistic :  -0.5143007160294015\n",
      "Degree of Freedom :  48\n",
      "Critical Value :  1.6772241953450393\n",
      "P Value :  0.6094016746584257\n",
      "\n",
      "Verdict :  Don't Reject the Null Hypothesis\n"
     ]
    },
    {
     "data": {
      "text/plain": [
       "-0.5143007160294015"
      ]
     },
     "execution_count": 164,
     "metadata": {},
     "output_type": "execute_result"
    }
   ],
   "source": [
    "hypothesis_test(df_top50_white,df_top50_non_white,0.05,0)"
   ]
  },
  {
   "cell_type": "markdown",
   "metadata": {},
   "source": [
    "#### The result implies out hypothesis was true, that there is no gender discrimination on top 50 oldest working employees."
   ]
  },
  {
   "cell_type": "markdown",
   "metadata": {},
   "source": [
    "#### Q7. We should check for each position is there gender discrimination ?"
   ]
  },
  {
   "cell_type": "code",
   "execution_count": 165,
   "metadata": {},
   "outputs": [
    {
     "name": "stdout",
     "output_type": "stream",
     "text": [
      "#################### Production Technician I ####################\n",
      "\n",
      "T Statistic :  0.9272126831227164\n",
      "Degree of Freedom :  71\n",
      "Critical Value :  1.666599658219398\n",
      "P Value :  0.35695740648515684\n",
      "\n",
      "Verdict :  Don't Reject the Null Hypothesis\n",
      "\n",
      "\n",
      "\n",
      "#################### Area Sales Manager ####################\n",
      "\n",
      "T Statistic :  -1.068419561537325\n",
      "Degree of Freedom :  21\n",
      "Critical Value :  1.7207429028118775\n",
      "P Value :  0.2974597027086754\n",
      "\n",
      "Verdict :  Don't Reject the Null Hypothesis\n",
      "\n",
      "\n",
      "\n",
      "#################### Production Technician II ####################\n",
      "\n",
      "T Statistic :  0.05325231189065007\n",
      "Degree of Freedom :  21\n",
      "Critical Value :  1.7207429028118775\n",
      "P Value :  0.958034218132644\n",
      "\n",
      "Verdict :  Don't Reject the Null Hypothesis\n",
      "\n",
      "\n",
      "\n",
      "#################### Production Manager ####################\n",
      "\n",
      "T Statistic :  -0.5878803211399749\n",
      "Degree of Freedom :  7\n",
      "Critical Value :  1.894578605061305\n",
      "P Value :  0.5750793434683144\n",
      "\n",
      "Verdict :  Don't Reject the Null Hypothesis\n",
      "\n",
      "\n",
      "\n",
      "#################### Network Engineer ####################\n",
      "\n",
      "T Statistic :  -1.6523869783638303\n",
      "Degree of Freedom :  6\n",
      "Critical Value :  1.9431802803927816\n",
      "P Value :  0.14954331295182755\n",
      "\n",
      "Verdict :  Don't Reject the Null Hypothesis\n",
      "\n",
      "\n",
      "\n",
      "#################### Database Administrator ####################\n",
      "\n",
      "T Statistic :  0.22153637581902144\n",
      "Degree of Freedom :  5\n",
      "Critical Value :  2.015048372669157\n",
      "P Value :  0.8334383293098622\n",
      "\n",
      "Verdict :  Don't Reject the Null Hypothesis\n",
      "\n",
      "\n",
      "\n",
      "#################### Software Engineer ####################\n",
      "\n",
      "Any of the two dataset is either null or has only one item\n",
      "\n",
      "\n",
      "\n",
      "#################### IT Support ####################\n",
      "\n",
      "Any of the two dataset is either null or has only one item\n",
      "\n",
      "\n",
      "\n"
     ]
    }
   ],
   "source": [
    "for i in ['Production Technician I','Area Sales Manager','Production Technician II','Production Manager',\n",
    "          'Network Engineer','Database Administrator','Software Engineer','IT Support']:\n",
    "    df_fe = df[(df['Gender']=='Female') & (df['Position']==i)]['Salary']\n",
    "    df_m = df[(df['Gender']=='Male') & (df['Position']==i)]['Salary']\n",
    "    print(\"####################\",i,\"####################\")\n",
    "    print(\"\")\n",
    "    a = hypothesis_test(df_fe,df_m,0.05,0)\n",
    "    print(\"\")\n",
    "    print(\"\")\n",
    "    print(\"\")"
   ]
  },
  {
   "cell_type": "markdown",
   "metadata": {},
   "source": [
    "#### We don't encounter any bias on the basis of gender in any position."
   ]
  },
  {
   "cell_type": "markdown",
   "metadata": {},
   "source": [
    "#### Q8. We should check for each position is there racial discrimination ?"
   ]
  },
  {
   "cell_type": "code",
   "execution_count": 166,
   "metadata": {},
   "outputs": [
    {
     "name": "stdout",
     "output_type": "stream",
     "text": [
      "#################### Production Technician I ####################\n",
      "\n",
      "T Statistic :  -0.3774148917203454\n",
      "Degree of Freedom :  71\n",
      "Critical Value :  1.666599658219398\n",
      "P Value :  0.7069911330462606\n",
      "\n",
      "Verdict :  Don't Reject the Null Hypothesis\n",
      "\n",
      "\n",
      "\n",
      "#################### Area Sales Manager ####################\n",
      "\n",
      "T Statistic :  0.4280565206294255\n",
      "Degree of Freedom :  21\n",
      "Critical Value :  1.7207429028118775\n",
      "P Value :  0.6729680218006755\n",
      "\n",
      "Verdict :  Don't Reject the Null Hypothesis\n",
      "\n",
      "\n",
      "\n",
      "#################### Production Technician II ####################\n",
      "\n",
      "T Statistic :  -0.21077316957806802\n",
      "Degree of Freedom :  21\n",
      "Critical Value :  1.7207429028118775\n",
      "P Value :  0.8350960794664801\n",
      "\n",
      "Verdict :  Don't Reject the Null Hypothesis\n",
      "\n",
      "\n",
      "\n",
      "#################### Production Manager ####################\n",
      "\n",
      "T Statistic :  -0.43109245871924246\n",
      "Degree of Freedom :  7\n",
      "Critical Value :  1.894578605061305\n",
      "P Value :  0.6793652591403596\n",
      "\n",
      "Verdict :  Don't Reject the Null Hypothesis\n",
      "\n",
      "\n",
      "\n",
      "#################### Network Engineer ####################\n",
      "\n",
      "Any of the two dataset is either null or has only one item\n",
      "\n",
      "\n",
      "\n",
      "#################### Database Administrator ####################\n",
      "\n",
      "T Statistic :  -0.8483378720863317\n",
      "Degree of Freedom :  5\n",
      "Critical Value :  2.015048372669157\n",
      "P Value :  0.4349711170784749\n",
      "\n",
      "Verdict :  Don't Reject the Null Hypothesis\n",
      "\n",
      "\n",
      "\n",
      "#################### Software Engineer ####################\n",
      "\n",
      "T Statistic :  -2.878928102919357\n",
      "Degree of Freedom :  4\n",
      "Critical Value :  2.13184678133629\n",
      "P Value :  0.04506167868571942\n",
      "\n",
      "###########################################\n",
      "Verdict :  Reject the Null Hypothesis\n",
      "###########################################\n",
      "\n",
      "\n",
      "\n",
      "#################### IT Support ####################\n",
      "\n",
      "T Statistic :  2.4352300778365277\n",
      "Degree of Freedom :  2\n",
      "Critical Value :  2.919985580355516\n",
      "P Value :  0.13524328318045398\n",
      "\n",
      "Verdict :  Don't Reject the Null Hypothesis\n",
      "\n",
      "\n",
      "\n"
     ]
    }
   ],
   "source": [
    "for i in ['Production Technician I','Area Sales Manager','Production Technician II','Production Manager',\n",
    "          'Network Engineer','Database Administrator','Software Engineer','IT Support']:\n",
    "    df_w = df[(df['Ethnicity']=='White') & (df['Position']==i)]['Salary']\n",
    "    df_nw = df[(df['Ethnicity']!='White') & (df['Position']==i)]['Salary']\n",
    "    print(\"####################\",i,\"####################\")\n",
    "    print(\"\")\n",
    "    a = hypothesis_test(df_w,df_nw,0.05,0)\n",
    "    print(\"\")\n",
    "    print(\"\")\n",
    "    print(\"\")"
   ]
  },
  {
   "cell_type": "code",
   "execution_count": 167,
   "metadata": {},
   "outputs": [
    {
     "data": {
      "text/html": [
       "<div>\n",
       "<style scoped>\n",
       "    .dataframe tbody tr th:only-of-type {\n",
       "        vertical-align: middle;\n",
       "    }\n",
       "\n",
       "    .dataframe tbody tr th {\n",
       "        vertical-align: top;\n",
       "    }\n",
       "\n",
       "    .dataframe thead th {\n",
       "        text-align: right;\n",
       "    }\n",
       "</style>\n",
       "<table border=\"1\" class=\"dataframe\">\n",
       "  <thead>\n",
       "    <tr style=\"text-align: right;\">\n",
       "      <th></th>\n",
       "      <th>Age</th>\n",
       "      <th>Gender</th>\n",
       "      <th>Ethnicity</th>\n",
       "      <th>Start_date</th>\n",
       "      <th>Position</th>\n",
       "      <th>Salary</th>\n",
       "    </tr>\n",
       "  </thead>\n",
       "  <tbody>\n",
       "    <tr>\n",
       "      <th>1</th>\n",
       "      <td>30</td>\n",
       "      <td>Female</td>\n",
       "      <td>White</td>\n",
       "      <td>2013-11-11</td>\n",
       "      <td>Software Engineer</td>\n",
       "      <td>116480.0</td>\n",
       "    </tr>\n",
       "    <tr>\n",
       "      <th>2</th>\n",
       "      <td>31</td>\n",
       "      <td>Female</td>\n",
       "      <td>White</td>\n",
       "      <td>2012-05-11</td>\n",
       "      <td>Software Engineer</td>\n",
       "      <td>102440.0</td>\n",
       "    </tr>\n",
       "    <tr>\n",
       "      <th>3</th>\n",
       "      <td>34</td>\n",
       "      <td>Male</td>\n",
       "      <td>White</td>\n",
       "      <td>2014-07-07</td>\n",
       "      <td>Software Engineer</td>\n",
       "      <td>99840.0</td>\n",
       "    </tr>\n",
       "    <tr>\n",
       "      <th>4</th>\n",
       "      <td>38</td>\n",
       "      <td>Female</td>\n",
       "      <td>White</td>\n",
       "      <td>2014-10-11</td>\n",
       "      <td>Software Engineer</td>\n",
       "      <td>99008.0</td>\n",
       "    </tr>\n",
       "  </tbody>\n",
       "</table>\n",
       "</div>"
      ],
      "text/plain": [
       "   Age  Gender Ethnicity Start_date           Position    Salary\n",
       "1   30  Female     White 2013-11-11  Software Engineer  116480.0\n",
       "2   31  Female     White 2012-05-11  Software Engineer  102440.0\n",
       "3   34    Male     White 2014-07-07  Software Engineer   99840.0\n",
       "4   38  Female     White 2014-10-11  Software Engineer   99008.0"
      ]
     },
     "execution_count": 167,
     "metadata": {},
     "output_type": "execute_result"
    }
   ],
   "source": [
    "# check software engineer position\n",
    "df[(df['Ethnicity']=='White') & (df['Position']=='Software Engineer')]"
   ]
  },
  {
   "cell_type": "code",
   "execution_count": 168,
   "metadata": {},
   "outputs": [
    {
     "data": {
      "text/html": [
       "<div>\n",
       "<style scoped>\n",
       "    .dataframe tbody tr th:only-of-type {\n",
       "        vertical-align: middle;\n",
       "    }\n",
       "\n",
       "    .dataframe tbody tr th {\n",
       "        vertical-align: top;\n",
       "    }\n",
       "\n",
       "    .dataframe thead th {\n",
       "        text-align: right;\n",
       "    }\n",
       "</style>\n",
       "<table border=\"1\" class=\"dataframe\">\n",
       "  <thead>\n",
       "    <tr style=\"text-align: right;\">\n",
       "      <th></th>\n",
       "      <th>Age</th>\n",
       "      <th>Gender</th>\n",
       "      <th>Ethnicity</th>\n",
       "      <th>Start_date</th>\n",
       "      <th>Position</th>\n",
       "      <th>Salary</th>\n",
       "    </tr>\n",
       "  </thead>\n",
       "  <tbody>\n",
       "    <tr>\n",
       "      <th>123</th>\n",
       "      <td>38</td>\n",
       "      <td>Female</td>\n",
       "      <td>Black or African American</td>\n",
       "      <td>2012-09-01</td>\n",
       "      <td>Software Engineer</td>\n",
       "      <td>118809.6</td>\n",
       "    </tr>\n",
       "    <tr>\n",
       "      <th>159</th>\n",
       "      <td>30</td>\n",
       "      <td>Female</td>\n",
       "      <td>Asian</td>\n",
       "      <td>2013-11-11</td>\n",
       "      <td>Software Engineer</td>\n",
       "      <td>115460.8</td>\n",
       "    </tr>\n",
       "  </tbody>\n",
       "</table>\n",
       "</div>"
      ],
      "text/plain": [
       "     Age  Gender                  Ethnicity Start_date           Position  \\\n",
       "123   38  Female  Black or African American 2012-09-01  Software Engineer   \n",
       "159   30  Female                      Asian 2013-11-11  Software Engineer   \n",
       "\n",
       "       Salary  \n",
       "123  118809.6  \n",
       "159  115460.8  "
      ]
     },
     "execution_count": 168,
     "metadata": {},
     "output_type": "execute_result"
    }
   ],
   "source": [
    "df[(df['Ethnicity']!='White') & (df['Position']=='Software Engineer')]"
   ]
  },
  {
   "cell_type": "markdown",
   "metadata": {},
   "source": [
    "#### All of the positions does not racially discriminate, except Software Engineer. In this we saw a negative t-statistic, which means the non white folks were provided more than the white people. The p-value was 0.04, which means for 96% of the time it will be true."
   ]
  },
  {
   "cell_type": "markdown",
   "metadata": {},
   "source": [
    "### Conclusion :\n",
    "\n",
    "Spark Foundation is a corporation which doesn't discriminate against any standards. It can one of the best places that an individual can work in. On the contrary, in Software Engineer profile, non white people were compensated more than the white people, it could be due to any company policies like relocation or anything, so we cannot directly jump to conclusions. __Our final verdict is Spark Foundation Inc. does not have pay gap within their organisation.__"
   ]
  }
 ],
 "metadata": {
  "kernelspec": {
   "display_name": "Python 3",
   "language": "python",
   "name": "python3"
  },
  "language_info": {
   "codemirror_mode": {
    "name": "ipython",
    "version": 3
   },
   "file_extension": ".py",
   "mimetype": "text/x-python",
   "name": "python",
   "nbconvert_exporter": "python",
   "pygments_lexer": "ipython3",
   "version": "3.6.12"
  }
 },
 "nbformat": 4,
 "nbformat_minor": 4
}
