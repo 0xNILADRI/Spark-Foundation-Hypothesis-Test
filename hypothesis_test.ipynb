{
 "cells": [
  {
   "cell_type": "code",
   "execution_count": 1,
   "metadata": {},
   "outputs": [],
   "source": [
    "# import necessary libraries\n",
    "import numpy as np\n",
    "import pandas as pd\n",
    "import matplotlib.pyplot as plt\n",
    "from matplotlib.pyplot import figure\n",
    "import seaborn as sns\n",
    "import math\n",
    "\n",
    "# default='warn'\n",
    "pd.options.mode.chained_assignment = None  \n",
    "pd.set_option('display.max_columns', None)\n",
    "\n",
    "%matplotlib inline"
   ]
  },
  {
   "cell_type": "code",
   "execution_count": 2,
   "metadata": {},
   "outputs": [
    {
     "data": {
      "text/html": [
       "<div>\n",
       "<style scoped>\n",
       "    .dataframe tbody tr th:only-of-type {\n",
       "        vertical-align: middle;\n",
       "    }\n",
       "\n",
       "    .dataframe tbody tr th {\n",
       "        vertical-align: top;\n",
       "    }\n",
       "\n",
       "    .dataframe thead th {\n",
       "        text-align: right;\n",
       "    }\n",
       "</style>\n",
       "<table border=\"1\" class=\"dataframe\">\n",
       "  <thead>\n",
       "    <tr style=\"text-align: right;\">\n",
       "      <th></th>\n",
       "      <th>Surname</th>\n",
       "      <th>Name</th>\n",
       "      <th>Age</th>\n",
       "      <th>Gender</th>\n",
       "      <th>Country</th>\n",
       "      <th>Ethnicity</th>\n",
       "      <th>Start_date</th>\n",
       "      <th>Department</th>\n",
       "      <th>Position</th>\n",
       "      <th>Salary</th>\n",
       "    </tr>\n",
       "  </thead>\n",
       "  <tbody>\n",
       "    <tr>\n",
       "      <th>0</th>\n",
       "      <td>Sweetwater</td>\n",
       "      <td>Alex</td>\n",
       "      <td>51</td>\n",
       "      <td>Male</td>\n",
       "      <td>United States</td>\n",
       "      <td>White</td>\n",
       "      <td>15-08-2011</td>\n",
       "      <td>Software Engineering</td>\n",
       "      <td>Software Engineering Manager</td>\n",
       "      <td>$56,160.00</td>\n",
       "    </tr>\n",
       "    <tr>\n",
       "      <th>1</th>\n",
       "      <td>Carabbio</td>\n",
       "      <td>Judith</td>\n",
       "      <td>30</td>\n",
       "      <td>Female</td>\n",
       "      <td>United States</td>\n",
       "      <td>White</td>\n",
       "      <td>11-11-2013</td>\n",
       "      <td>Software Engineering</td>\n",
       "      <td>Software Engineer</td>\n",
       "      <td>$1,16,480.00</td>\n",
       "    </tr>\n",
       "    <tr>\n",
       "      <th>2</th>\n",
       "      <td>Saada</td>\n",
       "      <td>Adell</td>\n",
       "      <td>31</td>\n",
       "      <td>Female</td>\n",
       "      <td>United States</td>\n",
       "      <td>White</td>\n",
       "      <td>05-11-2012</td>\n",
       "      <td>Software Engineering</td>\n",
       "      <td>Software Engineer</td>\n",
       "      <td>$1,02,440.00</td>\n",
       "    </tr>\n",
       "    <tr>\n",
       "      <th>3</th>\n",
       "      <td>Szabo</td>\n",
       "      <td>Andrew</td>\n",
       "      <td>34</td>\n",
       "      <td>Male</td>\n",
       "      <td>United States</td>\n",
       "      <td>White</td>\n",
       "      <td>07-07-2014</td>\n",
       "      <td>Software Engineering</td>\n",
       "      <td>Software Engineer</td>\n",
       "      <td>$99,840.00</td>\n",
       "    </tr>\n",
       "    <tr>\n",
       "      <th>4</th>\n",
       "      <td>Andreola</td>\n",
       "      <td>Colby</td>\n",
       "      <td>38</td>\n",
       "      <td>Female</td>\n",
       "      <td>United States</td>\n",
       "      <td>White</td>\n",
       "      <td>10-11-2014</td>\n",
       "      <td>Software Engineering</td>\n",
       "      <td>Software Engineer</td>\n",
       "      <td>$99,008.00</td>\n",
       "    </tr>\n",
       "  </tbody>\n",
       "</table>\n",
       "</div>"
      ],
      "text/plain": [
       "      Surname    Name  Age  Gender        Country Ethnicity  Start_date  \\\n",
       "0  Sweetwater    Alex   51    Male  United States     White  15-08-2011   \n",
       "1    Carabbio  Judith   30  Female  United States     White  11-11-2013   \n",
       "2       Saada   Adell   31  Female  United States     White  05-11-2012   \n",
       "3       Szabo  Andrew   34    Male  United States     White  07-07-2014   \n",
       "4    Andreola   Colby   38  Female  United States     White  10-11-2014   \n",
       "\n",
       "                  Department                      Position        Salary  \n",
       "0  Software Engineering       Software Engineering Manager    $56,160.00  \n",
       "1       Software Engineering             Software Engineer  $1,16,480.00  \n",
       "2       Software Engineering             Software Engineer  $1,02,440.00  \n",
       "3       Software Engineering             Software Engineer    $99,840.00  \n",
       "4       Software Engineering             Software Engineer    $99,008.00  "
      ]
     },
     "execution_count": 2,
     "metadata": {},
     "output_type": "execute_result"
    }
   ],
   "source": [
    "# import data\n",
    "df = pd.read_csv('data.csv',delimiter=',')\n",
    "df.head()"
   ]
  },
  {
   "cell_type": "code",
   "execution_count": 6,
   "metadata": {},
   "outputs": [
    {
     "data": {
      "text/plain": [
       "False"
      ]
     },
     "execution_count": 6,
     "metadata": {},
     "output_type": "execute_result"
    }
   ],
   "source": [
    "# check duplicates\n",
    "df.duplicated().all()"
   ]
  },
  {
   "cell_type": "code",
   "execution_count": 7,
   "metadata": {},
   "outputs": [
    {
     "data": {
      "text/plain": [
       "Surname       False\n",
       "Name          False\n",
       "Age           False\n",
       "Gender        False\n",
       "Country       False\n",
       "Ethnicity     False\n",
       "Start_date    False\n",
       "Department    False\n",
       "Position      False\n",
       "Salary        False\n",
       "dtype: bool"
      ]
     },
     "execution_count": 7,
     "metadata": {},
     "output_type": "execute_result"
    }
   ],
   "source": [
    "# check null values \n",
    "df.isna().all()"
   ]
  },
  {
   "cell_type": "code",
   "execution_count": 19,
   "metadata": {},
   "outputs": [
    {
     "data": {
      "text/plain": [
       "Surname               object\n",
       "Name                  object\n",
       "Age                    int64\n",
       "Gender                object\n",
       "Country               object\n",
       "Ethnicity             object\n",
       "Start_date    datetime64[ns]\n",
       "Department            object\n",
       "Position              object\n",
       "Salary               float64\n",
       "dtype: object"
      ]
     },
     "execution_count": 19,
     "metadata": {},
     "output_type": "execute_result"
    }
   ],
   "source": [
    "# check data type\n",
    "df.dtypes"
   ]
  },
  {
   "cell_type": "code",
   "execution_count": 17,
   "metadata": {},
   "outputs": [],
   "source": [
    "# rectify data types \n",
    "df['Start_date'] = pd.to_datetime(df['Start_date'])\n",
    "df['Salary'] = df['Salary'].str.replace('$','')\n",
    "df['Salary'] = df['Salary'].str.replace(',','')\n",
    "df['Salary'] = df['Salary'].astype(float)"
   ]
  },
  {
   "cell_type": "code",
   "execution_count": 12,
   "metadata": {},
   "outputs": [
    {
     "data": {
      "text/plain": [
       "0     2011-08-15\n",
       "1     2013-11-11\n",
       "2     2012-05-11\n",
       "3     2014-07-07\n",
       "4     2014-10-11\n",
       "         ...    \n",
       "169   2014-09-29\n",
       "170   2012-05-14\n",
       "171   2015-03-30\n",
       "172   2014-10-11\n",
       "173   2015-02-16\n",
       "Name: Start_date, Length: 174, dtype: datetime64[ns]"
      ]
     },
     "execution_count": 12,
     "metadata": {},
     "output_type": "execute_result"
    }
   ],
   "source": [
    "#check data\n",
    "df['Start_date']"
   ]
  },
  {
   "cell_type": "code",
   "execution_count": 18,
   "metadata": {},
   "outputs": [
    {
     "data": {
      "text/plain": [
       "0       56160.0\n",
       "1      116480.0\n",
       "2      102440.0\n",
       "3       99840.0\n",
       "4       99008.0\n",
       "         ...   \n",
       "169     31200.0\n",
       "170     29120.0\n",
       "171    114816.0\n",
       "172     88920.0\n",
       "173     72696.0\n",
       "Name: Salary, Length: 174, dtype: float64"
      ]
     },
     "execution_count": 18,
     "metadata": {},
     "output_type": "execute_result"
    }
   ],
   "source": [
    "df['Salary']"
   ]
  },
  {
   "cell_type": "code",
   "execution_count": 21,
   "metadata": {},
   "outputs": [
    {
     "data": {
      "text/plain": [
       "array(['Male', 'Female'], dtype=object)"
      ]
     },
     "execution_count": 21,
     "metadata": {},
     "output_type": "execute_result"
    }
   ],
   "source": [
    "# check gender values\n",
    "df['Gender'].unique()"
   ]
  },
  {
   "cell_type": "code",
   "execution_count": 22,
   "metadata": {},
   "outputs": [],
   "source": [
    "# create data for male and female -- gender factor\n",
    "df_female = df[df['Gender']=='Female']\n",
    "df_male = df[df['Gender']=='Male']"
   ]
  },
  {
   "cell_type": "code",
   "execution_count": 23,
   "metadata": {},
   "outputs": [
    {
     "data": {
      "text/plain": [
       "array(['White', 'Two or more races', 'Hispanic',\n",
       "       'Black or African American', 'Asian'], dtype=object)"
      ]
     },
     "execution_count": 23,
     "metadata": {},
     "output_type": "execute_result"
    }
   ],
   "source": [
    "# check Ethnicity values\n",
    "df['Ethnicity'].unique()"
   ]
  },
  {
   "cell_type": "code",
   "execution_count": 24,
   "metadata": {},
   "outputs": [],
   "source": [
    "# create data for white and non whites -- race factor\n",
    "df_white = df[df['Ethnicity']=='White']\n",
    "df_non_white = df[df['Ethnicity']!='White']"
   ]
  },
  {
   "cell_type": "code",
   "execution_count": 25,
   "metadata": {},
   "outputs": [],
   "source": [
    "# create data for employees above 35 years of age. -- racial discrimination\n",
    "df_over35 = df[df['Age']> 35]"
   ]
  },
  {
   "cell_type": "code",
   "execution_count": 52,
   "metadata": {},
   "outputs": [],
   "source": [
    "# top 50 employees - highest tenure / longest in the organisation - gender and race factor\n",
    "df_top50_tenure = df.sort_values(by='Start_date',ascending=True)[:50]"
   ]
  },
  {
   "cell_type": "code",
   "execution_count": 32,
   "metadata": {},
   "outputs": [
    {
     "data": {
      "text/plain": [
       "array(['Software Engineering', 'Sales', 'Production', 'IT/IS',\n",
       "       'Executive Office', 'Admin Offices'], dtype=object)"
      ]
     },
     "execution_count": 32,
     "metadata": {},
     "output_type": "execute_result"
    }
   ],
   "source": [
    "# now we should conduct he test for each department\n",
    "df['Department'].unique()"
   ]
  },
  {
   "cell_type": "code",
   "execution_count": 31,
   "metadata": {},
   "outputs": [],
   "source": [
    "# we see that there are issues with software engineering values\n",
    "df['Department'] = df['Department'].str.replace('Software Engineering     ','Software Engineering')\n",
    "df['Department'] = df['Department'].str.replace('Production       ','Production')"
   ]
  },
  {
   "cell_type": "code",
   "execution_count": 33,
   "metadata": {},
   "outputs": [],
   "source": [
    "# software Engineering\n",
    "df_female_sw_engg = df[(df['Gender']=='Female') & (df['Department']=='Software Engineering')]\n",
    "df_male_sw_engg = df[(df['Gender']=='Male') & (df['Department']=='Software Engineering')]"
   ]
  },
  {
   "cell_type": "code",
   "execution_count": 34,
   "metadata": {},
   "outputs": [],
   "source": [
    "# sales\n",
    "df_female_sales = df[(df['Gender']=='Female') & (df['Department']=='Sales')]\n",
    "df_male_sales = df[(df['Gender']=='Male') & (df['Department']=='Sales')]"
   ]
  },
  {
   "cell_type": "code",
   "execution_count": 35,
   "metadata": {},
   "outputs": [],
   "source": [
    "# production\n",
    "df_female_prod = df[(df['Gender']=='Female') & (df['Department']=='Production')]\n",
    "df_male_prod = df[(df['Gender']=='Male') & (df['Department']=='Production')]"
   ]
  },
  {
   "cell_type": "code",
   "execution_count": 36,
   "metadata": {},
   "outputs": [],
   "source": [
    "# IT/IS\n",
    "df_female_sales = df[(df['Gender']=='Female') & (df['Department']=='IT/IS')]\n",
    "df_male_sales = df[(df['Gender']=='Male') & (df['Department']=='IT/IS')]"
   ]
  },
  {
   "cell_type": "code",
   "execution_count": 37,
   "metadata": {},
   "outputs": [],
   "source": [
    "# executive office\n",
    "df_female_exec_office = df[(df['Gender']=='Female') & (df['Department']=='Executive Office')]\n",
    "df_male_exec_office = df[(df['Gender']=='Male') & (df['Department']=='Executive Office')]"
   ]
  },
  {
   "cell_type": "code",
   "execution_count": 38,
   "metadata": {},
   "outputs": [],
   "source": [
    "# admin offices\n",
    "df_female_admin_office = df[(df['Gender']=='Female') & (df['Department']=='Admin Offices')]\n",
    "df_male_admin_office = df[(df['Gender']=='Male') & (df['Department']=='Admin Offices')]"
   ]
  },
  {
   "cell_type": "markdown",
   "metadata": {},
   "source": [
    "### Let's begin our Hypothesis Testing.\n",
    "\n",
    "__Questions and Hypothesis.__\n",
    "\n",
    "\n",
    "__Q1.__ Is there any gender wage gap in the organisation on the basis of gender ?\n",
    "\n",
    "__Q2.__ Is the company discriminating on the basis of race/ethnicity (white vs else) ?\n",
    "\n",
    "__Q3.__ Is there racial discrimination for the employees above the age of 35 ?\n",
    "\n",
    "__Q4.__ Are the top 50 longest working employees facing race or gender discrimination ?\n",
    "\n",
    "__Q5.__ We should check for each department is there gender discrimination ?\n",
    "\n",
    "__Q6.__ We should check for each department is there racial discrimination ?"
   ]
  },
  {
   "cell_type": "code",
   "execution_count": null,
   "metadata": {},
   "outputs": [],
   "source": []
  },
  {
   "cell_type": "code",
   "execution_count": null,
   "metadata": {},
   "outputs": [],
   "source": []
  },
  {
   "cell_type": "code",
   "execution_count": null,
   "metadata": {},
   "outputs": [],
   "source": []
  },
  {
   "cell_type": "code",
   "execution_count": null,
   "metadata": {},
   "outputs": [],
   "source": []
  },
  {
   "cell_type": "code",
   "execution_count": null,
   "metadata": {},
   "outputs": [],
   "source": []
  },
  {
   "cell_type": "code",
   "execution_count": null,
   "metadata": {},
   "outputs": [],
   "source": []
  },
  {
   "cell_type": "code",
   "execution_count": null,
   "metadata": {},
   "outputs": [],
   "source": []
  },
  {
   "cell_type": "code",
   "execution_count": null,
   "metadata": {},
   "outputs": [],
   "source": []
  }
 ],
 "metadata": {
  "kernelspec": {
   "display_name": "Python 3",
   "language": "python",
   "name": "python3"
  },
  "language_info": {
   "codemirror_mode": {
    "name": "ipython",
    "version": 3
   },
   "file_extension": ".py",
   "mimetype": "text/x-python",
   "name": "python",
   "nbconvert_exporter": "python",
   "pygments_lexer": "ipython3",
   "version": "3.6.12"
  }
 },
 "nbformat": 4,
 "nbformat_minor": 4
}
